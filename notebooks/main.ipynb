{
 "cells": [
  {
   "cell_type": "markdown",
   "metadata": {},
   "source": [
    "# Importing the dependencies"
   ]
  },
  {
   "cell_type": "code",
   "execution_count": 48,
   "metadata": {},
   "outputs": [],
   "source": [
    "import tensorflow as tf\n",
    "from tensorflow.keras.preprocessing.text import Tokenizer\n",
    "from tensorflow.keras.preprocessing.sequence import pad_sequences\n",
    "import numpy as np\n",
    "import pandas as pd\n",
    "from sklearn.model_selection import train_test_split\n",
    "from sklearn.metrics import confusion_matrix, classification_report\n",
    "import matplotlib.pyplot as plt\n",
    "import seaborn as sns\n",
    "import pickle"
   ]
  },
  {
   "cell_type": "markdown",
   "metadata": {},
   "source": [
    "# Load the cleaned dataset"
   ]
  },
  {
   "cell_type": "code",
   "execution_count": 49,
   "metadata": {},
   "outputs": [],
   "source": [
    "data = pd.read_csv('../datasets/cleaned_twitter_training.csv').astype(str)"
   ]
  },
  {
   "cell_type": "code",
   "execution_count": 50,
   "metadata": {},
   "outputs": [
    {
     "data": {
      "text/html": [
       "<div>\n",
       "<style scoped>\n",
       "    .dataframe tbody tr th:only-of-type {\n",
       "        vertical-align: middle;\n",
       "    }\n",
       "\n",
       "    .dataframe tbody tr th {\n",
       "        vertical-align: top;\n",
       "    }\n",
       "\n",
       "    .dataframe thead th {\n",
       "        text-align: right;\n",
       "    }\n",
       "</style>\n",
       "<table border=\"1\" class=\"dataframe\">\n",
       "  <thead>\n",
       "    <tr style=\"text-align: right;\">\n",
       "      <th></th>\n",
       "      <th>Unnamed: 0</th>\n",
       "      <th>context</th>\n",
       "      <th>sentiment</th>\n",
       "      <th>text</th>\n",
       "      <th>cleaned_text</th>\n",
       "    </tr>\n",
       "  </thead>\n",
       "  <tbody>\n",
       "    <tr>\n",
       "      <th>0</th>\n",
       "      <td>0</td>\n",
       "      <td>Borderlands</td>\n",
       "      <td>1</td>\n",
       "      <td>im getting on borderlands and i will murder yo...</td>\n",
       "      <td>get borderland murder</td>\n",
       "    </tr>\n",
       "    <tr>\n",
       "      <th>1</th>\n",
       "      <td>1</td>\n",
       "      <td>Borderlands</td>\n",
       "      <td>1</td>\n",
       "      <td>I am coming to the borders and I will kill you...</td>\n",
       "      <td>come border kill</td>\n",
       "    </tr>\n",
       "    <tr>\n",
       "      <th>2</th>\n",
       "      <td>2</td>\n",
       "      <td>Borderlands</td>\n",
       "      <td>1</td>\n",
       "      <td>im getting on borderlands and i will kill you ...</td>\n",
       "      <td>get borderland kill</td>\n",
       "    </tr>\n",
       "    <tr>\n",
       "      <th>3</th>\n",
       "      <td>3</td>\n",
       "      <td>Borderlands</td>\n",
       "      <td>1</td>\n",
       "      <td>im coming on borderlands and i will murder you...</td>\n",
       "      <td>come borderland murder</td>\n",
       "    </tr>\n",
       "    <tr>\n",
       "      <th>4</th>\n",
       "      <td>6</td>\n",
       "      <td>Borderlands</td>\n",
       "      <td>1</td>\n",
       "      <td>So I spent a few hours making something for fu...</td>\n",
       "      <td>spent hour make someth fun know huge fan maya ...</td>\n",
       "    </tr>\n",
       "  </tbody>\n",
       "</table>\n",
       "</div>"
      ],
      "text/plain": [
       "  Unnamed: 0      context sentiment  \\\n",
       "0          0  Borderlands         1   \n",
       "1          1  Borderlands         1   \n",
       "2          2  Borderlands         1   \n",
       "3          3  Borderlands         1   \n",
       "4          6  Borderlands         1   \n",
       "\n",
       "                                                text  \\\n",
       "0  im getting on borderlands and i will murder yo...   \n",
       "1  I am coming to the borders and I will kill you...   \n",
       "2  im getting on borderlands and i will kill you ...   \n",
       "3  im coming on borderlands and i will murder you...   \n",
       "4  So I spent a few hours making something for fu...   \n",
       "\n",
       "                                        cleaned_text  \n",
       "0                              get borderland murder  \n",
       "1                                   come border kill  \n",
       "2                                get borderland kill  \n",
       "3                             come borderland murder  \n",
       "4  spent hour make someth fun know huge fan maya ...  "
      ]
     },
     "execution_count": 50,
     "metadata": {},
     "output_type": "execute_result"
    }
   ],
   "source": [
    "data.head()"
   ]
  },
  {
   "cell_type": "code",
   "execution_count": 51,
   "metadata": {},
   "outputs": [],
   "source": [
    "data = data.drop(['Unnamed: 0'], axis=1)"
   ]
  },
  {
   "cell_type": "code",
   "execution_count": 52,
   "metadata": {},
   "outputs": [],
   "source": [
    "X_train, X_test, y_train, y_test = train_test_split(\n",
    "    data['cleaned_text'], data['sentiment'], stratify=data['sentiment']) # test 25%, train 75%"
   ]
  },
  {
   "cell_type": "code",
   "execution_count": 53,
   "metadata": {},
   "outputs": [
    {
     "data": {
      "text/plain": [
       "14566    go suck dri fortnit twitch tv mintyyprod intol...\n",
       "13291                           fr understand terribl film\n",
       "9151     html liter get screw charact sinc updat point ...\n",
       "8627     imagin tri play new raid classic core server c...\n",
       "7857                                   ps leav best friend\n",
       "                               ...                        \n",
       "14355                     ruin life learn twitch tv quirki\n",
       "32148                            serious mad look unbeliev\n",
       "27301    hello facebook show feed recent kudo final fac...\n",
       "14912    fortnitegam fortnit take lightsab past movi an...\n",
       "20945                        low key miss smell home depot\n",
       "Name: cleaned_text, Length: 25971, dtype: object"
      ]
     },
     "execution_count": 53,
     "metadata": {},
     "output_type": "execute_result"
    }
   ],
   "source": [
    "X_train"
   ]
  },
  {
   "cell_type": "code",
   "execution_count": 54,
   "metadata": {},
   "outputs": [],
   "source": [
    "y_train = y_train.astype(float)\n",
    "y_test = y_test.astype(float)"
   ]
  },
  {
   "cell_type": "code",
   "execution_count": 55,
   "metadata": {},
   "outputs": [],
   "source": [
    "# Hyperparameters\n",
    "VOCAB_SIZE = 1000\n",
    "EMBEDDING_DIM = 16\n",
    "MAX_LENGTH = 20\n",
    "TRUNCATING_TYPE='post'\n",
    "PADDING_TYPE='post'\n",
    "OOV_TOKEN = \"<OOV>\""
   ]
  },
  {
   "cell_type": "code",
   "execution_count": 56,
   "metadata": {},
   "outputs": [],
   "source": [
    "# Tokenize and pad sequences\n",
    "tokenizer = Tokenizer(num_words=VOCAB_SIZE, oov_token=OOV_TOKEN)\n",
    "tokenizer.fit_on_texts(X_train.values.tolist())"
   ]
  },
  {
   "cell_type": "code",
   "execution_count": 57,
   "metadata": {},
   "outputs": [],
   "source": [
    "def preprocess_texts(texts: list[str]):\n",
    "    sequences = tokenizer.texts_to_sequences(texts)\n",
    "    padded_sequences = pad_sequences(sequences, maxlen=MAX_LENGTH, padding=PADDING_TYPE, truncating=TRUNCATING_TYPE)\n",
    "    return padded_sequences"
   ]
  },
  {
   "cell_type": "markdown",
   "metadata": {},
   "source": [
    "# Constructing the model"
   ]
  },
  {
   "cell_type": "code",
   "execution_count": 58,
   "metadata": {},
   "outputs": [],
   "source": [
    "def create_model():\n",
    "    model = tf.keras.Sequential([\n",
    "        tf.keras.layers.Embedding(VOCAB_SIZE, EMBEDDING_DIM, input_length=MAX_LENGTH, name='embedding'),\n",
    "        tf.keras.layers.Flatten(name='flatten'),\n",
    "        tf.keras.layers.Dense(6, activation='relu', name='dense_relu'),\n",
    "        tf.keras.layers.Dense(1, activation='sigmoid', name='dense_sigmoid'),\n",
    "    ])\n",
    "    \n",
    "    model.compile(loss='binary_crossentropy', optimizer='adam', metrics=['accuracy'])\n",
    "    model.summary()\n",
    "    \n",
    "    return model"
   ]
  },
  {
   "cell_type": "code",
   "execution_count": 59,
   "metadata": {},
   "outputs": [
    {
     "name": "stdout",
     "output_type": "stream",
     "text": [
      "Model: \"sequential_2\"\n",
      "_________________________________________________________________\n",
      " Layer (type)                Output Shape              Param #   \n",
      "=================================================================\n",
      " embedding (Embedding)       (None, 20, 16)            16000     \n",
      "                                                                 \n",
      " flatten (Flatten)           (None, 320)               0         \n",
      "                                                                 \n",
      " dense_relu (Dense)          (None, 6)                 1926      \n",
      "                                                                 \n",
      " dense_sigmoid (Dense)       (None, 1)                 7         \n",
      "                                                                 \n",
      "=================================================================\n",
      "Total params: 17,933\n",
      "Trainable params: 17,933\n",
      "Non-trainable params: 0\n",
      "_________________________________________________________________\n"
     ]
    }
   ],
   "source": [
    "# Define neural networks\n",
    "experimenting_model = create_model()"
   ]
  },
  {
   "cell_type": "code",
   "execution_count": 60,
   "metadata": {},
   "outputs": [],
   "source": [
    "preprocessed_X_train = preprocess_texts(X_train)"
   ]
  },
  {
   "cell_type": "code",
   "execution_count": 61,
   "metadata": {},
   "outputs": [
    {
     "name": "stdout",
     "output_type": "stream",
     "text": [
      "Epoch 1/15\n",
      "812/812 - 4s - loss: 0.5073 - accuracy: 0.7382 - 4s/epoch - 4ms/step\n",
      "Epoch 2/15\n",
      "812/812 - 2s - loss: 0.3478 - accuracy: 0.8513 - 2s/epoch - 3ms/step\n",
      "Epoch 3/15\n",
      "812/812 - 2s - loss: 0.2899 - accuracy: 0.8811 - 2s/epoch - 3ms/step\n",
      "Epoch 4/15\n",
      "812/812 - 2s - loss: 0.2483 - accuracy: 0.9000 - 2s/epoch - 3ms/step\n",
      "Epoch 5/15\n",
      "812/812 - 3s - loss: 0.2186 - accuracy: 0.9140 - 3s/epoch - 3ms/step\n",
      "Epoch 6/15\n",
      "812/812 - 3s - loss: 0.1932 - accuracy: 0.9252 - 3s/epoch - 3ms/step\n",
      "Epoch 7/15\n",
      "812/812 - 2s - loss: 0.1743 - accuracy: 0.9331 - 2s/epoch - 3ms/step\n",
      "Epoch 8/15\n",
      "812/812 - 2s - loss: 0.1604 - accuracy: 0.9394 - 2s/epoch - 3ms/step\n",
      "Epoch 9/15\n",
      "812/812 - 2s - loss: 0.1458 - accuracy: 0.9436 - 2s/epoch - 3ms/step\n",
      "Epoch 10/15\n",
      "812/812 - 3s - loss: 0.1343 - accuracy: 0.9499 - 3s/epoch - 3ms/step\n",
      "Epoch 11/15\n",
      "812/812 - 3s - loss: 0.1252 - accuracy: 0.9536 - 3s/epoch - 3ms/step\n",
      "Epoch 12/15\n",
      "812/812 - 3s - loss: 0.1179 - accuracy: 0.9560 - 3s/epoch - 3ms/step\n",
      "Epoch 13/15\n",
      "812/812 - 3s - loss: 0.1110 - accuracy: 0.9587 - 3s/epoch - 3ms/step\n",
      "Epoch 14/15\n",
      "812/812 - 3s - loss: 0.1044 - accuracy: 0.9608 - 3s/epoch - 3ms/step\n",
      "Epoch 15/15\n",
      "812/812 - 2s - loss: 0.0999 - accuracy: 0.9614 - 2s/epoch - 3ms/step\n"
     ]
    },
    {
     "data": {
      "text/plain": [
       "<keras.callbacks.History at 0x1799a460d60>"
      ]
     },
     "execution_count": 61,
     "metadata": {},
     "output_type": "execute_result"
    }
   ],
   "source": [
    "EPOCHS = 15\n",
    "y_train = np.array(y_train)\n",
    "experimenting_model.fit(preprocessed_X_train, y_train, epochs=EPOCHS, verbose=2)"
   ]
  },
  {
   "cell_type": "code",
   "execution_count": 62,
   "metadata": {},
   "outputs": [],
   "source": [
    "def classify_text(model, text: str):\n",
    "    preprocessed_text = preprocess_texts([text]) # Pre-processed texts must be a list for the model to consume\n",
    "    prediction = model.predict(preprocessed_text)\n",
    "    print(prediction)\n",
    "    \n",
    "    return \"Positive\" if prediction >= .5 else \"Negative\"\n"
   ]
  },
  {
   "cell_type": "code",
   "execution_count": 63,
   "metadata": {},
   "outputs": [
    {
     "name": "stdout",
     "output_type": "stream",
     "text": [
      "1/1 [==============================] - 0s 142ms/step\n",
      "[[0.07635267]]\n"
     ]
    },
    {
     "data": {
      "text/plain": [
       "'Negative'"
      ]
     },
     "execution_count": 63,
     "metadata": {},
     "output_type": "execute_result"
    }
   ],
   "source": [
    "test_text = \"Holy shit!\"\n",
    "classify_text(experimenting_model, test_text)"
   ]
  },
  {
   "cell_type": "code",
   "execution_count": 64,
   "metadata": {},
   "outputs": [
    {
     "data": {
      "text/plain": [
       "9988                                              omfg let\n",
       "26183                                          tricki make\n",
       "7962     think design look great least go make someth s...\n",
       "20267    okay verizon gone nut paid mom bill onlin got ...\n",
       "30775    guess want give back sinc cancer trust almost ...\n",
       "                               ...                        \n",
       "23914    replay red dead redempt pleas know hors minerv...\n",
       "12048    finish odyssey creed assassin bore know rockst...\n",
       "17364                                   akolyt leeroy miss\n",
       "31501    wait hurt wait wait also rememb see teaser tra...\n",
       "19777         apolog anoth verizon brand oil london goodby\n",
       "Name: cleaned_text, Length: 8658, dtype: object"
      ]
     },
     "execution_count": 64,
     "metadata": {},
     "output_type": "execute_result"
    }
   ],
   "source": [
    "X_test"
   ]
  },
  {
   "cell_type": "code",
   "execution_count": 65,
   "metadata": {},
   "outputs": [
    {
     "data": {
      "text/plain": [
       "array([[  1, 111,   0, ...,   0,   0,   0],\n",
       "       [  1,  17,   0, ...,   0,   0,   0],\n",
       "       [ 55, 486,  19, ..., 974,   0,   0],\n",
       "       ...,\n",
       "       [  1,   1, 147, ...,   0,   0,   0],\n",
       "       [ 40,   1,  40, ...,  55, 197, 651],\n",
       "       [  1, 139,  59, ...,   0,   0,   0]])"
      ]
     },
     "execution_count": 65,
     "metadata": {},
     "output_type": "execute_result"
    }
   ],
   "source": [
    "preprocessed_X_test = preprocess_texts(X_test)\n",
    "preprocessed_X_test"
   ]
  },
  {
   "cell_type": "code",
   "execution_count": 66,
   "metadata": {},
   "outputs": [
    {
     "name": "stdout",
     "output_type": "stream",
     "text": [
      "271/271 [==============================] - 1s 3ms/step - loss: 0.5403 - accuracy: 0.8449\n"
     ]
    },
    {
     "data": {
      "text/plain": [
       "[0.5403100848197937, 0.8448833227157593]"
      ]
     },
     "execution_count": 66,
     "metadata": {},
     "output_type": "execute_result"
    }
   ],
   "source": [
    "experimenting_model.evaluate(preprocessed_X_test, y_test)"
   ]
  },
  {
   "cell_type": "code",
   "execution_count": 67,
   "metadata": {},
   "outputs": [
    {
     "name": "stdout",
     "output_type": "stream",
     "text": [
      "271/271 [==============================] - 1s 3ms/step\n"
     ]
    }
   ],
   "source": [
    "y_preds = experimenting_model.predict(preprocessed_X_test)\n",
    "y_preds = y_preds.flatten()\n",
    "y_preds = np.where(y_preds > .5, 1, 0)"
   ]
  },
  {
   "cell_type": "code",
   "execution_count": 68,
   "metadata": {},
   "outputs": [
    {
     "name": "stdout",
     "output_type": "stream",
     "text": [
      "              precision    recall  f1-score   support\n",
      "\n",
      "         0.0       0.85      0.86      0.86      4651\n",
      "         1.0       0.84      0.82      0.83      4007\n",
      "\n",
      "    accuracy                           0.84      8658\n",
      "   macro avg       0.84      0.84      0.84      8658\n",
      "weighted avg       0.84      0.84      0.84      8658\n",
      "\n"
     ]
    }
   ],
   "source": [
    "print(classification_report(y_test, y_preds))"
   ]
  },
  {
   "cell_type": "code",
   "execution_count": 69,
   "metadata": {},
   "outputs": [
    {
     "data": {
      "image/png": "[encoded data removed]",
      "text/plain": [
       "<Figure size 640x480 with 2 Axes>"
      ]
     },
     "metadata": {},
     "output_type": "display_data"
    }
   ],
   "source": [
    "cm = confusion_matrix(y_test, y_preds)\n",
    "sns.heatmap(cm, annot=True, fmt='d')\n",
    "plt.xlabel('Predicted')\n",
    "plt.ylabel('Truth')\n",
    "plt.show()"
   ]
  },
  {
   "cell_type": "markdown",
   "metadata": {},
   "source": [
    "# Constructing The 'ready-to-use' Model"
   ]
  },
  {
   "cell_type": "code",
   "execution_count": 70,
   "metadata": {},
   "outputs": [
    {
     "name": "stdout",
     "output_type": "stream",
     "text": [
      "Model: \"sequential_3\"\n",
      "_________________________________________________________________\n",
      " Layer (type)                Output Shape              Param #   \n",
      "=================================================================\n",
      " embedding (Embedding)       (None, 20, 16)            16000     \n",
      "                                                                 \n",
      " flatten (Flatten)           (None, 320)               0         \n",
      "                                                                 \n",
      " dense_relu (Dense)          (None, 6)                 1926      \n",
      "                                                                 \n",
      " dense_sigmoid (Dense)       (None, 1)                 7         \n",
      "                                                                 \n",
      "=================================================================\n",
      "Total params: 17,933\n",
      "Trainable params: 17,933\n",
      "Non-trainable params: 0\n",
      "_________________________________________________________________\n"
     ]
    }
   ],
   "source": [
    "model = create_model()"
   ]
  },
  {
   "cell_type": "code",
   "execution_count": 71,
   "metadata": {},
   "outputs": [],
   "source": [
    "preprocessed_X = preprocess_texts(data['cleaned_text'])\n",
    "y = data['sentiment'].to_numpy()"
   ]
  },
  {
   "cell_type": "code",
   "execution_count": 76,
   "metadata": {},
   "outputs": [
    {
     "data": {
      "text/plain": [
       "array([[  4,  70,   1, ...,   0,   0,   0],\n",
       "       [ 65,   1, 129, ...,   0,   0,   0],\n",
       "       [  4,  70, 129, ...,   0,   0,   0],\n",
       "       ...,\n",
       "       [815, 472,   1, ...,   0,   0,   0],\n",
       "       [815, 472,   1, ...,   0,   0,   0],\n",
       "       [  6, 472,   1, ...,   0,   0,   0]])"
      ]
     },
     "execution_count": 76,
     "metadata": {},
     "output_type": "execute_result"
    }
   ],
   "source": [
    "preprocessed_X"
   ]
  },
  {
   "cell_type": "code",
   "execution_count": 77,
   "metadata": {},
   "outputs": [],
   "source": [
    "y = y.astype(float)"
   ]
  },
  {
   "cell_type": "code",
   "execution_count": 78,
   "metadata": {},
   "outputs": [
    {
     "name": "stdout",
     "output_type": "stream",
     "text": [
      "Epoch 1/15\n",
      "1083/1083 - 4s - loss: 0.4690 - accuracy: 0.7702 - 4s/epoch - 4ms/step\n",
      "Epoch 2/15\n",
      "1083/1083 - 3s - loss: 0.3365 - accuracy: 0.8517 - 3s/epoch - 3ms/step\n",
      "Epoch 3/15\n",
      "1083/1083 - 3s - loss: 0.2819 - accuracy: 0.8803 - 3s/epoch - 3ms/step\n",
      "Epoch 4/15\n",
      "1083/1083 - 3s - loss: 0.2421 - accuracy: 0.9002 - 3s/epoch - 3ms/step\n",
      "Epoch 5/15\n",
      "1083/1083 - 3s - loss: 0.2133 - accuracy: 0.9123 - 3s/epoch - 3ms/step\n",
      "Epoch 6/15\n",
      "1083/1083 - 3s - loss: 0.1901 - accuracy: 0.9227 - 3s/epoch - 3ms/step\n",
      "Epoch 7/15\n",
      "1083/1083 - 3s - loss: 0.1731 - accuracy: 0.9301 - 3s/epoch - 3ms/step\n",
      "Epoch 8/15\n",
      "1083/1083 - 3s - loss: 0.1593 - accuracy: 0.9366 - 3s/epoch - 3ms/step\n",
      "Epoch 9/15\n",
      "1083/1083 - 3s - loss: 0.1467 - accuracy: 0.9410 - 3s/epoch - 3ms/step\n",
      "Epoch 10/15\n",
      "1083/1083 - 3s - loss: 0.1364 - accuracy: 0.9450 - 3s/epoch - 3ms/step\n",
      "Epoch 11/15\n",
      "1083/1083 - 3s - loss: 0.1277 - accuracy: 0.9489 - 3s/epoch - 3ms/step\n",
      "Epoch 12/15\n",
      "1083/1083 - 3s - loss: 0.1205 - accuracy: 0.9514 - 3s/epoch - 3ms/step\n",
      "Epoch 13/15\n",
      "1083/1083 - 3s - loss: 0.1137 - accuracy: 0.9532 - 3s/epoch - 3ms/step\n",
      "Epoch 14/15\n",
      "1083/1083 - 3s - loss: 0.1094 - accuracy: 0.9539 - 3s/epoch - 3ms/step\n",
      "Epoch 15/15\n",
      "1083/1083 - 3s - loss: 0.1035 - accuracy: 0.9574 - 3s/epoch - 3ms/step\n"
     ]
    },
    {
     "data": {
      "text/plain": [
       "<keras.callbacks.History at 0x1799cb254c0>"
      ]
     },
     "execution_count": 78,
     "metadata": {},
     "output_type": "execute_result"
    }
   ],
   "source": [
    "model.fit(preprocessed_X, y, epochs=EPOCHS, verbose=2)"
   ]
  },
  {
   "cell_type": "code",
   "execution_count": 79,
   "metadata": {},
   "outputs": [
    {
     "name": "stdout",
     "output_type": "stream",
     "text": [
      "INFO:tensorflow:Assets written to: ./models/yapping_classifier_model\\assets\n"
     ]
    }
   ],
   "source": [
    "model.save('../models/yapping_classifier_model')"
   ]
  },
  {
   "cell_type": "code",
   "execution_count": 80,
   "metadata": {},
   "outputs": [],
   "source": [
    "with open('../models/tokenizer.pickle', 'wb') as handle:\n",
    "    pickle.dump(tokenizer, handle, protocol=pickle.HIGHEST_PROTOCOL)"
   ]
  }
 ],
 "metadata": {
  "kernelspec": {
   "display_name": "Python 3",
   "language": "python",
   "name": "python3"
  },
  "language_info": {
   "codemirror_mode": {
    "name": "ipython",
    "version": 3
   },
   "file_extension": ".py",
   "mimetype": "text/x-python",
   "name": "python",
   "nbconvert_exporter": "python",
   "pygments_lexer": "ipython3",
   "version": "3.9.13"
  }
 },
 "nbformat": 4,
 "nbformat_minor": 2
}
