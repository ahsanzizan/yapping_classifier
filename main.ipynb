{
 "cells": [
  {
   "cell_type": "markdown",
   "metadata": {},
   "source": [
    "# Importing the dependencies"
   ]
  },
  {
   "cell_type": "code",
   "execution_count": 282,
   "metadata": {},
   "outputs": [],
   "source": [
    "import tensorflow as tf\n",
    "from tensorflow.keras.preprocessing.text import Tokenizer\n",
    "from tensorflow.keras.preprocessing.sequence import pad_sequences\n",
    "import numpy as np\n",
    "import pandas as pd\n",
    "from sklearn.model_selection import train_test_split\n",
    "from sklearn.metrics import confusion_matrix, classification_report\n",
    "import matplotlib.pyplot as plt\n",
    "import seaborn as sns\n",
    "import pickle"
   ]
  },
  {
   "cell_type": "markdown",
   "metadata": {},
   "source": [
    "# Load the cleaned dataset"
   ]
  },
  {
   "cell_type": "code",
   "execution_count": 283,
   "metadata": {},
   "outputs": [],
   "source": [
    "data = pd.read_csv('./datasets/cleaned_twitter_training.csv')"
   ]
  },
  {
   "cell_type": "code",
   "execution_count": 284,
   "metadata": {},
   "outputs": [
    {
     "data": {
      "text/html": [
       "<div>\n",
       "<style scoped>\n",
       "    .dataframe tbody tr th:only-of-type {\n",
       "        vertical-align: middle;\n",
       "    }\n",
       "\n",
       "    .dataframe tbody tr th {\n",
       "        vertical-align: top;\n",
       "    }\n",
       "\n",
       "    .dataframe thead th {\n",
       "        text-align: right;\n",
       "    }\n",
       "</style>\n",
       "<table border=\"1\" class=\"dataframe\">\n",
       "  <thead>\n",
       "    <tr style=\"text-align: right;\">\n",
       "      <th></th>\n",
       "      <th>Unnamed: 0</th>\n",
       "      <th>context</th>\n",
       "      <th>sentiment</th>\n",
       "      <th>text</th>\n",
       "      <th>cleaned_text</th>\n",
       "    </tr>\n",
       "  </thead>\n",
       "  <tbody>\n",
       "    <tr>\n",
       "      <th>0</th>\n",
       "      <td>0</td>\n",
       "      <td>Borderlands</td>\n",
       "      <td>1</td>\n",
       "      <td>im getting on borderlands and i will murder yo...</td>\n",
       "      <td>get borderland murder</td>\n",
       "    </tr>\n",
       "    <tr>\n",
       "      <th>1</th>\n",
       "      <td>1</td>\n",
       "      <td>Borderlands</td>\n",
       "      <td>1</td>\n",
       "      <td>I am coming to the borders and I will kill you...</td>\n",
       "      <td>come border kill</td>\n",
       "    </tr>\n",
       "    <tr>\n",
       "      <th>2</th>\n",
       "      <td>2</td>\n",
       "      <td>Borderlands</td>\n",
       "      <td>1</td>\n",
       "      <td>im getting on borderlands and i will kill you ...</td>\n",
       "      <td>get borderland kill</td>\n",
       "    </tr>\n",
       "    <tr>\n",
       "      <th>3</th>\n",
       "      <td>3</td>\n",
       "      <td>Borderlands</td>\n",
       "      <td>1</td>\n",
       "      <td>im coming on borderlands and i will murder you...</td>\n",
       "      <td>come borderland murder</td>\n",
       "    </tr>\n",
       "    <tr>\n",
       "      <th>4</th>\n",
       "      <td>6</td>\n",
       "      <td>Borderlands</td>\n",
       "      <td>1</td>\n",
       "      <td>So I spent a few hours making something for fu...</td>\n",
       "      <td>spent hour make someth fun know huge borderlan...</td>\n",
       "    </tr>\n",
       "  </tbody>\n",
       "</table>\n",
       "</div>"
      ],
      "text/plain": [
       "   Unnamed: 0      context  sentiment  \\\n",
       "0           0  Borderlands          1   \n",
       "1           1  Borderlands          1   \n",
       "2           2  Borderlands          1   \n",
       "3           3  Borderlands          1   \n",
       "4           6  Borderlands          1   \n",
       "\n",
       "                                                text  \\\n",
       "0  im getting on borderlands and i will murder yo...   \n",
       "1  I am coming to the borders and I will kill you...   \n",
       "2  im getting on borderlands and i will kill you ...   \n",
       "3  im coming on borderlands and i will murder you...   \n",
       "4  So I spent a few hours making something for fu...   \n",
       "\n",
       "                                        cleaned_text  \n",
       "0                              get borderland murder  \n",
       "1                                   come border kill  \n",
       "2                                get borderland kill  \n",
       "3                             come borderland murder  \n",
       "4  spent hour make someth fun know huge borderlan...  "
      ]
     },
     "execution_count": 284,
     "metadata": {},
     "output_type": "execute_result"
    }
   ],
   "source": [
    "data.head()"
   ]
  },
  {
   "cell_type": "code",
   "execution_count": 285,
   "metadata": {},
   "outputs": [],
   "source": [
    "data = data.drop(['Unnamed: 0'], axis=1)"
   ]
  },
  {
   "cell_type": "code",
   "execution_count": 286,
   "metadata": {},
   "outputs": [],
   "source": [
    "X_train, X_test, y_train, y_test = train_test_split(\n",
    "    data['text'], data['sentiment'], stratify=data['sentiment']) # test 25%, train 75%"
   ]
  },
  {
   "cell_type": "code",
   "execution_count": 287,
   "metadata": {},
   "outputs": [
    {
     "data": {
      "text/plain": [
       "5654     @NBA2K_MyTEAM @ItsShake4ndbake @oThasideLando ...\n",
       "15069    i was playin fortnite creative fill an out of ...\n",
       "491      Some Y ’ all just stick with a Mario Kart and ...\n",
       "16171                                        Ok, that's a.\n",
       "13869    ... League of Legends is having ratings issues...\n",
       "                               ...                        \n",
       "13336           @PlayApex SHOW BANGALORE SOME LOVE!!!!!!!!\n",
       "4505     Holy shit, it only took 2 console generations ...\n",
       "10019    Received a great honor today. Received a charg...\n",
       "5619     J 4 cards in 6 days... still no city jerseys R...\n",
       "30957                    @HollieB You have to eat this GPU\n",
       "Name: text, Length: 25589, dtype: object"
      ]
     },
     "execution_count": 287,
     "metadata": {},
     "output_type": "execute_result"
    }
   ],
   "source": [
    "X_train"
   ]
  },
  {
   "cell_type": "code",
   "execution_count": 288,
   "metadata": {},
   "outputs": [
    {
     "data": {
      "text/plain": [
       "5654     0\n",
       "15069    0\n",
       "491      1\n",
       "16171    1\n",
       "13869    0\n",
       "        ..\n",
       "13336    1\n",
       "4505     1\n",
       "10019    1\n",
       "5619     0\n",
       "30957    1\n",
       "Name: sentiment, Length: 25589, dtype: int64"
      ]
     },
     "execution_count": 288,
     "metadata": {},
     "output_type": "execute_result"
    }
   ],
   "source": [
    "y_train"
   ]
  },
  {
   "cell_type": "code",
   "execution_count": 289,
   "metadata": {},
   "outputs": [],
   "source": [
    "# Hyperparameters\n",
    "VOCAB_SIZE = 1000\n",
    "EMBEDDING_DIM = 16\n",
    "MAX_LENGTH = 20\n",
    "TRUNCATING_TYPE='post'\n",
    "PADDING_TYPE='post'\n",
    "OOV_TOKEN = \"<OOV>\""
   ]
  },
  {
   "cell_type": "code",
   "execution_count": 290,
   "metadata": {},
   "outputs": [],
   "source": [
    "# Tokenize and pad sequences\n",
    "tokenizer = Tokenizer(num_words=VOCAB_SIZE, oov_token=OOV_TOKEN)\n",
    "tokenizer.fit_on_texts(X_train)"
   ]
  },
  {
   "cell_type": "code",
   "execution_count": 291,
   "metadata": {},
   "outputs": [],
   "source": [
    "def preprocess_texts(texts: list[str]):\n",
    "    sequences = tokenizer.texts_to_sequences(texts)\n",
    "    padded_sequences = pad_sequences(sequences, maxlen=MAX_LENGTH, padding=PADDING_TYPE, truncating=TRUNCATING_TYPE)\n",
    "    return padded_sequences"
   ]
  },
  {
   "cell_type": "markdown",
   "metadata": {},
   "source": [
    "# Constructing the model"
   ]
  },
  {
   "cell_type": "code",
   "execution_count": 292,
   "metadata": {},
   "outputs": [],
   "source": [
    "def create_model():\n",
    "    model = tf.keras.Sequential([\n",
    "        tf.keras.layers.Embedding(VOCAB_SIZE, EMBEDDING_DIM, input_length=MAX_LENGTH, name='embedding'),\n",
    "        tf.keras.layers.Flatten(name='flatten'),\n",
    "        tf.keras.layers.Dense(6, activation='relu', name='dense_relu'),\n",
    "        tf.keras.layers.Dense(1, activation='sigmoid', name='dense_sigmoid'),\n",
    "    ])\n",
    "    \n",
    "    model.compile(loss='binary_crossentropy', optimizer='adam', metrics=['accuracy'])\n",
    "    model.summary()\n",
    "    \n",
    "    return model"
   ]
  },
  {
   "cell_type": "code",
   "execution_count": 293,
   "metadata": {},
   "outputs": [
    {
     "name": "stdout",
     "output_type": "stream",
     "text": [
      "Model: \"sequential_19\"\n",
      "_________________________________________________________________\n",
      " Layer (type)                Output Shape              Param #   \n",
      "=================================================================\n",
      " embedding (Embedding)       (None, 20, 16)            16000     \n",
      "                                                                 \n",
      " flatten (Flatten)           (None, 320)               0         \n",
      "                                                                 \n",
      " dense_relu (Dense)          (None, 6)                 1926      \n",
      "                                                                 \n",
      " dense_sigmoid (Dense)       (None, 1)                 7         \n",
      "                                                                 \n",
      "=================================================================\n",
      "Total params: 17,933\n",
      "Trainable params: 17,933\n",
      "Non-trainable params: 0\n",
      "_________________________________________________________________\n"
     ]
    }
   ],
   "source": [
    "# Define neural networks\n",
    "experimenting_model = create_model()"
   ]
  },
  {
   "cell_type": "code",
   "execution_count": 294,
   "metadata": {},
   "outputs": [],
   "source": [
    "preprocessed_X_train = preprocess_texts(X_train)"
   ]
  },
  {
   "cell_type": "code",
   "execution_count": 295,
   "metadata": {},
   "outputs": [
    {
     "name": "stdout",
     "output_type": "stream",
     "text": [
      "Epoch 1/15\n",
      "800/800 - 2s - loss: 0.5107 - accuracy: 0.7445 - 2s/epoch - 3ms/step\n",
      "Epoch 2/15\n",
      "800/800 - 2s - loss: 0.3417 - accuracy: 0.8502 - 2s/epoch - 2ms/step\n",
      "Epoch 3/15\n",
      "800/800 - 2s - loss: 0.2700 - accuracy: 0.8880 - 2s/epoch - 2ms/step\n",
      "Epoch 4/15\n",
      "800/800 - 2s - loss: 0.2187 - accuracy: 0.9124 - 2s/epoch - 2ms/step\n",
      "Epoch 5/15\n",
      "800/800 - 2s - loss: 0.1799 - accuracy: 0.9293 - 2s/epoch - 2ms/step\n",
      "Epoch 6/15\n",
      "800/800 - 2s - loss: 0.1501 - accuracy: 0.9416 - 2s/epoch - 2ms/step\n",
      "Epoch 7/15\n",
      "800/800 - 2s - loss: 0.1257 - accuracy: 0.9523 - 2s/epoch - 2ms/step\n",
      "Epoch 8/15\n",
      "800/800 - 2s - loss: 0.1080 - accuracy: 0.9593 - 2s/epoch - 2ms/step\n",
      "Epoch 9/15\n",
      "800/800 - 2s - loss: 0.0926 - accuracy: 0.9659 - 2s/epoch - 2ms/step\n",
      "Epoch 10/15\n",
      "800/800 - 2s - loss: 0.0805 - accuracy: 0.9695 - 2s/epoch - 2ms/step\n",
      "Epoch 11/15\n",
      "800/800 - 2s - loss: 0.0713 - accuracy: 0.9727 - 2s/epoch - 2ms/step\n",
      "Epoch 12/15\n",
      "800/800 - 2s - loss: 0.0643 - accuracy: 0.9749 - 2s/epoch - 2ms/step\n",
      "Epoch 13/15\n",
      "800/800 - 2s - loss: 0.0577 - accuracy: 0.9768 - 2s/epoch - 2ms/step\n",
      "Epoch 14/15\n",
      "800/800 - 2s - loss: 0.0515 - accuracy: 0.9799 - 2s/epoch - 2ms/step\n",
      "Epoch 15/15\n",
      "800/800 - 2s - loss: 0.0490 - accuracy: 0.9798 - 2s/epoch - 2ms/step\n"
     ]
    },
    {
     "data": {
      "text/plain": [
       "<keras.callbacks.History at 0x2ceea8d0370>"
      ]
     },
     "execution_count": 295,
     "metadata": {},
     "output_type": "execute_result"
    }
   ],
   "source": [
    "EPOCHS = 15\n",
    "y_train = np.array(y_train)\n",
    "experimenting_model.fit(preprocessed_X_train, y_train, epochs=EPOCHS, verbose=2)"
   ]
  },
  {
   "cell_type": "code",
   "execution_count": 296,
   "metadata": {},
   "outputs": [],
   "source": [
    "def classify_text(model, text: str):\n",
    "    preprocessed_text = preprocess_texts([text]) # Pre-processed texts must be a list for the model to consume\n",
    "    prediction = model.predict(preprocessed_text)\n",
    "    print(prediction)\n",
    "    \n",
    "    return \"Positive\" if prediction >= .5 else \"Negative\"\n"
   ]
  },
  {
   "cell_type": "code",
   "execution_count": 297,
   "metadata": {},
   "outputs": [
    {
     "name": "stdout",
     "output_type": "stream",
     "text": [
      "1/1 [==============================] - 0s 90ms/step\n",
      "[[0.04035816]]\n"
     ]
    },
    {
     "data": {
      "text/plain": [
       "'Negative'"
      ]
     },
     "execution_count": 297,
     "metadata": {},
     "output_type": "execute_result"
    }
   ],
   "source": [
    "test_text = \"Holy shit!\"\n",
    "classify_text(experimenting_model, test_text)"
   ]
  },
  {
   "cell_type": "code",
   "execution_count": 298,
   "metadata": {},
   "outputs": [
    {
     "data": {
      "text/plain": [
       "16340    Just want to use the phone... Microsoft Teams ...\n",
       "1717     NEW VIDEO: THE UNDERRATED SCAR CLASS. . youtu....\n",
       "5509                 RT Where would he go? GOAT Larry Bird\n",
       "762      @Ki11ersix @dammit2h3ll @Borderlands Consideri...\n",
       "11839    @ DionDoes have u played Assassins Creed 3? Li...\n",
       "                               ...                        \n",
       "22953                      I thought this was FIFA 20. Wow\n",
       "5164     Dog I can't get on 2K soundtrack? That shit tr...\n",
       "17029    Hey, just gentle reminder that if you've not p...\n",
       "7345     Too busy people play dota 2, and internet goes...\n",
       "31178    Happy birthday to Johnny Silverhand himself......\n",
       "Name: text, Length: 8530, dtype: object"
      ]
     },
     "execution_count": 298,
     "metadata": {},
     "output_type": "execute_result"
    }
   ],
   "source": [
    "X_test"
   ]
  },
  {
   "cell_type": "code",
   "execution_count": 299,
   "metadata": {},
   "outputs": [
    {
     "data": {
      "text/plain": [
       "array([[ 24, 124,   4, ...,   0,   0,   0],\n",
       "       [ 55, 244,   2, ...,   0,   0,   0],\n",
       "       [  1, 256, 123, ...,   0,   0,   0],\n",
       "       ...,\n",
       "       [284,  24,   1, ...,   4,  32,   6],\n",
       "       [156,   1,  77, ...,   0,   0,   0],\n",
       "       [206, 768,   4, ...,   1,   1,   0]])"
      ]
     },
     "execution_count": 299,
     "metadata": {},
     "output_type": "execute_result"
    }
   ],
   "source": [
    "preprocessed_X_test = preprocess_texts(X_test)\n",
    "preprocessed_X_test"
   ]
  },
  {
   "cell_type": "code",
   "execution_count": 300,
   "metadata": {},
   "outputs": [
    {
     "name": "stdout",
     "output_type": "stream",
     "text": [
      "267/267 [==============================] - 1s 2ms/step - loss: 0.7677 - accuracy: 0.8376\n"
     ]
    },
    {
     "data": {
      "text/plain": [
       "[0.7676817178726196, 0.83763188123703]"
      ]
     },
     "execution_count": 300,
     "metadata": {},
     "output_type": "execute_result"
    }
   ],
   "source": [
    "experimenting_model.evaluate(preprocessed_X_test, y_test)"
   ]
  },
  {
   "cell_type": "code",
   "execution_count": 301,
   "metadata": {},
   "outputs": [
    {
     "name": "stdout",
     "output_type": "stream",
     "text": [
      "267/267 [==============================] - 1s 2ms/step\n"
     ]
    }
   ],
   "source": [
    "y_preds = experimenting_model.predict(preprocessed_X_test)\n",
    "y_preds = y_preds.flatten()\n",
    "y_preds = np.where(y_preds > .5, 1, 0)"
   ]
  },
  {
   "cell_type": "code",
   "execution_count": 302,
   "metadata": {},
   "outputs": [
    {
     "name": "stdout",
     "output_type": "stream",
     "text": [
      "              precision    recall  f1-score   support\n",
      "\n",
      "           0       0.84      0.85      0.85      4566\n",
      "           1       0.83      0.82      0.82      3964\n",
      "\n",
      "    accuracy                           0.84      8530\n",
      "   macro avg       0.84      0.84      0.84      8530\n",
      "weighted avg       0.84      0.84      0.84      8530\n",
      "\n"
     ]
    }
   ],
   "source": [
    "print(classification_report(y_test, y_preds))"
   ]
  },
  {
   "cell_type": "code",
   "execution_count": 303,
   "metadata": {},
   "outputs": [
    {
     "data": {
      "image/png": "[encoded data removed]",
      "text/plain": [
       "<Figure size 640x480 with 2 Axes>"
      ]
     },
     "metadata": {},
     "output_type": "display_data"
    }
   ],
   "source": [
    "cm = confusion_matrix(y_test, y_preds)\n",
    "sns.heatmap(cm, annot=True, fmt='d')\n",
    "plt.xlabel('Predicted')\n",
    "plt.ylabel('Truth')\n",
    "plt.show()"
   ]
  },
  {
   "cell_type": "markdown",
   "metadata": {},
   "source": [
    "# Constructing The 'ready-to-use' Model"
   ]
  },
  {
   "cell_type": "code",
   "execution_count": 304,
   "metadata": {},
   "outputs": [
    {
     "name": "stdout",
     "output_type": "stream",
     "text": [
      "Model: \"sequential_20\"\n",
      "_________________________________________________________________\n",
      " Layer (type)                Output Shape              Param #   \n",
      "=================================================================\n",
      " embedding (Embedding)       (None, 20, 16)            16000     \n",
      "                                                                 \n",
      " flatten (Flatten)           (None, 320)               0         \n",
      "                                                                 \n",
      " dense_relu (Dense)          (None, 6)                 1926      \n",
      "                                                                 \n",
      " dense_sigmoid (Dense)       (None, 1)                 7         \n",
      "                                                                 \n",
      "=================================================================\n",
      "Total params: 17,933\n",
      "Trainable params: 17,933\n",
      "Non-trainable params: 0\n",
      "_________________________________________________________________\n"
     ]
    }
   ],
   "source": [
    "model = create_model()"
   ]
  },
  {
   "cell_type": "code",
   "execution_count": 305,
   "metadata": {},
   "outputs": [],
   "source": [
    "preprocessed_X = preprocess_texts(data['text'])\n",
    "y = data['sentiment'].to_numpy()"
   ]
  },
  {
   "cell_type": "code",
   "execution_count": 306,
   "metadata": {},
   "outputs": [
    {
     "name": "stdout",
     "output_type": "stream",
     "text": [
      "Epoch 1/15\n",
      "1067/1067 - 3s - loss: 0.4819 - accuracy: 0.7590 - 3s/epoch - 3ms/step\n",
      "Epoch 2/15\n",
      "1067/1067 - 2s - loss: 0.3337 - accuracy: 0.8543 - 2s/epoch - 2ms/step\n",
      "Epoch 3/15\n",
      "1067/1067 - 2s - loss: 0.2713 - accuracy: 0.8865 - 2s/epoch - 2ms/step\n",
      "Epoch 4/15\n",
      "1067/1067 - 2s - loss: 0.2247 - accuracy: 0.9082 - 2s/epoch - 2ms/step\n",
      "Epoch 5/15\n",
      "1067/1067 - 2s - loss: 0.1916 - accuracy: 0.9239 - 2s/epoch - 2ms/step\n",
      "Epoch 6/15\n",
      "1067/1067 - 1s - loss: 0.1656 - accuracy: 0.9358 - 1s/epoch - 1ms/step\n",
      "Epoch 7/15\n",
      "1067/1067 - 2s - loss: 0.1441 - accuracy: 0.9433 - 2s/epoch - 2ms/step\n",
      "Epoch 8/15\n",
      "1067/1067 - 2s - loss: 0.1282 - accuracy: 0.9499 - 2s/epoch - 2ms/step\n",
      "Epoch 9/15\n",
      "1067/1067 - 2s - loss: 0.1143 - accuracy: 0.9557 - 2s/epoch - 1ms/step\n",
      "Epoch 10/15\n",
      "1067/1067 - 2s - loss: 0.1020 - accuracy: 0.9599 - 2s/epoch - 2ms/step\n",
      "Epoch 11/15\n",
      "1067/1067 - 2s - loss: 0.0933 - accuracy: 0.9634 - 2s/epoch - 1ms/step\n",
      "Epoch 12/15\n",
      "1067/1067 - 2s - loss: 0.0854 - accuracy: 0.9661 - 2s/epoch - 2ms/step\n",
      "Epoch 13/15\n",
      "1067/1067 - 2s - loss: 0.0787 - accuracy: 0.9693 - 2s/epoch - 1ms/step\n",
      "Epoch 14/15\n",
      "1067/1067 - 1s - loss: 0.0742 - accuracy: 0.9703 - 1s/epoch - 1ms/step\n",
      "Epoch 15/15\n",
      "1067/1067 - 2s - loss: 0.0695 - accuracy: 0.9726 - 2s/epoch - 2ms/step\n"
     ]
    },
    {
     "data": {
      "text/plain": [
       "<keras.callbacks.History at 0x2ce8033f100>"
      ]
     },
     "execution_count": 306,
     "metadata": {},
     "output_type": "execute_result"
    }
   ],
   "source": [
    "model.fit(preprocessed_X, y, epochs=EPOCHS, verbose=2)"
   ]
  },
  {
   "cell_type": "code",
   "execution_count": 307,
   "metadata": {},
   "outputs": [
    {
     "name": "stdout",
     "output_type": "stream",
     "text": [
      "INFO:tensorflow:Assets written to: ./models/yapping_classifier_model\\assets\n"
     ]
    }
   ],
   "source": [
    "model.save('./models/yapping_classifier_model')"
   ]
  },
  {
   "cell_type": "code",
   "execution_count": 308,
   "metadata": {},
   "outputs": [],
   "source": [
    "with open('./models/tokenizer.pickle', 'wb') as handle:\n",
    "    pickle.dump(tokenizer, handle, protocol=pickle.HIGHEST_PROTOCOL)"
   ]
  }
 ],
 "metadata": {
  "kernelspec": {
   "display_name": "Python 3",
   "language": "python",
   "name": "python3"
  },
  "language_info": {
   "codemirror_mode": {
    "name": "ipython",
    "version": 3
   },
   "file_extension": ".py",
   "mimetype": "text/x-python",
   "name": "python",
   "nbconvert_exporter": "python",
   "pygments_lexer": "ipython3",
   "version": "3.9.13"
  }
 },
 "nbformat": 4,
 "nbformat_minor": 2
}
